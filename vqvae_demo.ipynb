{
 "cells": [
  {
   "cell_type": "code",
   "execution_count": 2,
   "metadata": {},
   "outputs": [
    {
     "name": "stdout",
     "output_type": "stream",
     "text": [
      "The autoreload extension is already loaded. To reload it, use:\n",
      "  %reload_ext autoreload\n",
      "[*] SDFusionTestOption initialized.\n",
      "Working with z of shape (1, 3, 16, 16, 16) = 12288 dimensions.\n",
      "\u001b[34m[*] weight successfully load from: vqvae_epoch-best.pth\u001b[0m\n",
      "\u001b[34m[*] Model has been created: VQVAE-Model\u001b[0m\n"
     ]
    }
   ],
   "source": [
    "from models.vqvae_model import VQVAEModel\n",
    "# import libraries\n",
    "import numpy as np\n",
    "from termcolor import colored, cprint\n",
    "# for display\n",
    "from IPython.display import Image as ipy_image\n",
    "from IPython.display import display\n",
    "\n",
    "import torch\n",
    "import torch.backends.cudnn as cudnn\n",
    "cudnn.benchmark = True\n",
    "import torchvision.utils as vutils\n",
    "\n",
    "from datasets.dataloader import CreateDataLoader, get_data_generator\n",
    "from models.base_model import create_model\n",
    "from utils.util_3d import render_sdf, render_mesh, sdf_to_mesh, save_mesh_as_gif\n",
    "from utils.demo_util import SDFusionOpt\n",
    "\n",
    "%load_ext autoreload\n",
    "%autoreload 2\n",
    "opt = SDFusionOpt(gpu_ids=0, seed=2023)\n",
    "device = opt.device\n",
    "ckpt_path = \"vqvae_epoch-best.pth\"\n",
    "opt.init_model_args(ckpt_path=ckpt_path)\n",
    "opt.model = \"vqvae\"\n",
    "opt.dataset_mode = \"snet\"\n",
    "vqvae = create_model(opt)\n"
   ]
  },
  {
   "cell_type": "code",
   "execution_count": 3,
   "metadata": {},
   "outputs": [
    {
     "data": {
      "text/plain": [
       "'cuda'"
      ]
     },
     "execution_count": 3,
     "metadata": {},
     "output_type": "execute_result"
    }
   ],
   "source": [
    "vqvae.device"
   ]
  },
  {
   "cell_type": "code",
   "execution_count": 4,
   "metadata": {},
   "outputs": [],
   "source": [
    "import h5py\n",
    "from utils.util_3d import sdf_to_mesh\n",
    "from utils.demo_util import get_partial_shape\n",
    "vqvae.vqvae.to(\"cuda\")\n",
    "def inference(path, partial=False, return_z=False):\n",
    "\n",
    "    h5_f = h5py.File(path, 'r')\n",
    "    sdf = h5_f['pc_sdf_sample'][:].astype(np.float32)\n",
    "\n",
    "    sdf = torch.Tensor(sdf).view(1, 64, 64, 64).unsqueeze(0)\n",
    "    x_min, x_max = -1, 1\n",
    "    y_min, y_max = 0, 1\n",
    "    z_min, z_max = -1, 1\n",
    "    xyz_dict = {'x': (x_min, x_max), 'y': (y_min, y_max), 'z': (z_min, z_max)}\n",
    "    if partial:\n",
    "        ret = get_partial_shape(sdf, xyz_dict)\n",
    "        sdf, shape_missing = ret['shape_part'], ret['shape_missing']\n",
    "    # print(sdf.shape)\n",
    "    # sdf = sdf[:, :64, :64, :64]\n",
    "    sdf = torch.clamp(sdf, min=-0.2, max=0.2)\n",
    "    if return_z:\n",
    "        \n",
    "        z = vqvae.vqvae(sdf.cuda(), forward_no_quant=True, encode_only=True).detach()\n",
    "        return z\n",
    "        \n",
    "    else:    \n",
    "        vqvae.inference({'sdf': sdf})\n",
    "        mesh_gen = sdf_to_mesh(vqvae.x_recon)\n",
    "        mesh_orig = sdf_to_mesh(sdf)\n",
    "        mesh_gen = trimesh.Trimesh(mesh_gen.verts_packed().cpu().numpy(), mesh_gen.faces_packed().cpu().numpy())\n",
    "        mesh_orig = trimesh.Trimesh(mesh_orig.verts_packed().cpu().numpy(), mesh_orig.faces_packed().cpu().numpy())\n",
    "        mesh_gen.fix_normals()\n",
    "        mesh_orig.fix_normals()\n",
    "    return mesh_gen, mesh_orig"
   ]
  },
  {
   "cell_type": "code",
   "execution_count": 7,
   "metadata": {},
   "outputs": [
    {
     "name": "stdout",
     "output_type": "stream",
     "text": [
      "../data/SDF_v1_64/02958343/4271d0c8cdad6a84e572d3df5e4fc85f/ori_sample.h5\n"
     ]
    },
    {
     "name": "stderr",
     "output_type": "stream",
     "text": [
      "100%|█████████████████████████████████████| 38315/38315 [32:23<00:00, 19.71it/s]\n"
     ]
    }
   ],
   "source": [
    "import glob\n",
    "from tqdm import tqdm\n",
    "rng = np.random.default_rng(12345)\n",
    "listo = glob.glob(\"../data/SDF_v1_64/*/*/*\")\n",
    "print(listo[0])\n",
    "listo = np.array([l for l in listo if \"ori\" in l and \".npy\" not in l and \"motor\" not in l])\n",
    "for p in tqdm(listo):\n",
    "    z = inference(p, return_z=True).cpu().numpy()\n",
    "    np.save(p.replace(\"ori_sample.h5\", \"latent_code.npy\"), z)"
   ]
  },
  {
   "cell_type": "code",
   "execution_count": 6,
   "metadata": {},
   "outputs": [],
   "source": [
    "listo = glob.glob(\"/home/amac/SDFusion/data/ShapeNet/SDF_v1_64/*/*/*\")\n"
   ]
  },
  {
   "cell_type": "code",
   "execution_count": null,
   "metadata": {},
   "outputs": [],
   "source": [
    "listo"
   ]
  },
  {
   "cell_type": "code",
   "execution_count": null,
   "metadata": {},
   "outputs": [],
   "source": [
    "import trimesh\n",
    "mesh_gen, mesh_orig = inference(listo[0], False)\n",
    "mesh_gen.show()"
   ]
  },
  {
   "cell_type": "code",
   "execution_count": null,
   "metadata": {},
   "outputs": [],
   "source": [
    "mesh_gen = sdf_to_mesh(pred)"
   ]
  },
  {
   "cell_type": "code",
   "execution_count": null,
   "metadata": {},
   "outputs": [],
   "source": [
    "mesh_gen_orig = sdf_to_mesh(sdf.unsqueeze(0).cuda())"
   ]
  },
  {
   "cell_type": "code",
   "execution_count": null,
   "metadata": {},
   "outputs": [],
   "source": [
    "sdf.device"
   ]
  },
  {
   "cell_type": "code",
   "execution_count": null,
   "metadata": {},
   "outputs": [],
   "source": [
    "# initialize SDFusion model\n",
    "ckpt_path = 'saved_ckpt/sdfusion-snet-all.pth'\n",
    "opt.init_model_args(ckpt_path=ckpt_path)\n",
    "SDFusion = create_model(opt)\n"
   ]
  },
  {
   "cell_type": "code",
   "execution_count": null,
   "metadata": {},
   "outputs": [],
   "source": [
    "import trimesh\n",
    "mesho = trimesh.Trimesh(mesh_gen.verts_packed().cpu().numpy(), mesh_gen.faces_packed().cpu().numpy())"
   ]
  },
  {
   "cell_type": "code",
   "execution_count": null,
   "metadata": {},
   "outputs": [],
   "source": [
    "mesho.fix_normals()"
   ]
  },
  {
   "cell_type": "code",
   "execution_count": null,
   "metadata": {},
   "outputs": [],
   "source": [
    "mesho.show()"
   ]
  },
  {
   "cell_type": "code",
   "execution_count": null,
   "metadata": {},
   "outputs": [],
   "source": [
    "import trimesh\n",
    "mesho = trimesh.Trimesh(mesh_gen_orig.verts_packed().cpu().numpy(), mesh_gen_orig.faces_packed().cpu().numpy())\n",
    "mesho.fix_normals()\n",
    "mesho.show()"
   ]
  },
  {
   "cell_type": "code",
   "execution_count": null,
   "metadata": {},
   "outputs": [],
   "source": []
  }
 ],
 "metadata": {
  "interpreter": {
   "hash": "0cb91d3e1b99d6173ff2a4a1ffc7ae86a51308516310abe0d22d77e499eb73d5"
  },
  "kernelspec": {
   "display_name": "Python 3 (ipykernel)",
   "language": "python",
   "name": "python3"
  },
  "language_info": {
   "codemirror_mode": {
    "name": "ipython",
    "version": 3
   },
   "file_extension": ".py",
   "mimetype": "text/x-python",
   "name": "python",
   "nbconvert_exporter": "python",
   "pygments_lexer": "ipython3",
   "version": "3.9.17"
  }
 },
 "nbformat": 4,
 "nbformat_minor": 4
}
