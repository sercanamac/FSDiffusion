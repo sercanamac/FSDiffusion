{
 "cells": [
  {
   "cell_type": "code",
   "execution_count": 1,
   "metadata": {},
   "outputs": [],
   "source": [
    "from datasets.snet_code_dataset import ShapeNetImg2ShapeDataset\n",
    "from argparse import Namespace\n",
    "import glob\n",
    "all_imgs = glob.glob(\"/home/amac/data/ShapeNet55_3DOF-VC_LRBg/*/*/image_output/*.png\")\n",
    "from utils.demo_util import preprocess_image\n",
    "\n"
   ]
  },
  {
   "cell_type": "code",
   "execution_count": null,
   "metadata": {},
   "outputs": [],
   "source": [
    "from torchvision import transforms\n",
    "to_tensor = transforms.ToTensor()\n",
    "normalize = transforms.Normalize((0.5, 0.5, 0.5), (0.5, 0.5, 0.5))\n",
    "mean, std = [0.5, 0.5, 0.5], [0.5, 0.5, 0.5]\n",
    "transforms = transforms.Compose([\n",
    "    transforms.ToTensor(),\n",
    "    transforms.Normalize(mean, std),\n",
    "    transforms.Resize((256, 256)),\n",
    "])"
   ]
  },
  {
   "cell_type": "code",
   "execution_count": 6,
   "metadata": {},
   "outputs": [
    {
     "name": "stderr",
     "output_type": "stream",
     "text": [
      " 60%|██████    | 790243/1310100 [2:47:26<1:55:35, 74.96it/s] "
     ]
    }
   ],
   "source": [
    "import numpy as np\n",
    "from tqdm import tqdm\n",
    "import os\n",
    "from PIL import Image\n",
    "import os\n",
    "\n",
    "for im in tqdm(all_imgs):\n",
    "        _,img = preprocess_image(str(im), str(im).replace(\"image_output\", \"segmentation\"))\n",
    "        os.makedirs(\"/\".join(str(im).replace(\"ShapeNet55_3DOF-VC_LRBg\", \"preprocessed\").split(\"/\")[:-1]),exist_ok=True)\n",
    "        img.save(str(im).replace(\"ShapeNet55_3DOF-VC_LRBg\", \"preprocessed\"))\n",
    "\n"
   ]
  },
  {
   "cell_type": "markdown",
   "metadata": {},
   "source": []
  },
  {
   "cell_type": "code",
   "execution_count": 5,
   "metadata": {},
   "outputs": [
    {
     "ename": "NameError",
     "evalue": "name 'imo' is not defined",
     "output_type": "error",
     "traceback": [
      "\u001b[0;31m---------------------------------------------------------------------------\u001b[0m",
      "\u001b[0;31mNameError\u001b[0m                                 Traceback (most recent call last)",
      "Cell \u001b[0;32mIn[5], line 1\u001b[0m\n\u001b[0;32m----> 1\u001b[0m \u001b[43mimo\u001b[49m\n",
      "\u001b[0;31mNameError\u001b[0m: name 'imo' is not defined"
     ]
    }
   ],
   "source": [
    "imo"
   ]
  },
  {
   "cell_type": "code",
   "execution_count": null,
   "metadata": {},
   "outputs": [],
   "source": []
  }
 ],
 "metadata": {
  "interpreter": {
   "hash": "0cb91d3e1b99d6173ff2a4a1ffc7ae86a51308516310abe0d22d77e499eb73d5"
  },
  "kernelspec": {
   "display_name": "Python 3.8.16 ('sdf')",
   "language": "python",
   "name": "python3"
  },
  "language_info": {
   "codemirror_mode": {
    "name": "ipython",
    "version": 3
   },
   "file_extension": ".py",
   "mimetype": "text/x-python",
   "name": "python",
   "nbconvert_exporter": "python",
   "pygments_lexer": "ipython3",
   "version": "3.8.16"
  },
  "orig_nbformat": 4
 },
 "nbformat": 4,
 "nbformat_minor": 2
}
